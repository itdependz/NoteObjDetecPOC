{
 "cells": [
  {
   "cell_type": "markdown",
   "id": "ce2b3b0b",
   "metadata": {},
   "source": [
    "# Note Object Detection\n",
    "Description: Object Detection Program for FRC Notes\n",
    "\n",
    "## Resources\n",
    "* Note model from [RoboFlow](https://universe.roboflow.com/worbots-4145/2024-frc)\n"
   ]
  },
  {
   "cell_type": "code",
   "execution_count": 2,
   "id": "d3e264fc",
   "metadata": {},
   "outputs": [
    {
     "name": "stderr",
     "output_type": "stream",
     "text": [
      "/Users/sanjibdas/Library/Python/3.9/lib/python/site-packages/urllib3/__init__.py:35: NotOpenSSLWarning: urllib3 v2 only supports OpenSSL 1.1.1+, currently the 'ssl' module is compiled with 'LibreSSL 2.8.3'. See: https://github.com/urllib3/urllib3/issues/3020\n",
      "  warnings.warn(\n"
     ]
    }
   ],
   "source": [
    "# import necessary libraries\n",
    "from roboflow import Roboflow\n",
    "import supervision as sv\n",
    "import cv2"
   ]
  },
  {
   "cell_type": "markdown",
   "id": "793b2821",
   "metadata": {},
   "source": [
    "## Import RoboFlow Model and Necessary Requirements\n",
    "### obtain results"
   ]
  },
  {
   "cell_type": "code",
   "execution_count": 3,
   "id": "1f6c8140",
   "metadata": {},
   "outputs": [
    {
     "name": "stdout",
     "output_type": "stream",
     "text": [
      "loading Roboflow workspace...\n",
      "loading Roboflow project...\n"
     ]
    }
   ],
   "source": [
    "rf = Roboflow(api_key=\"PHdCfHHJVoVwM0ee9rP7\")\n",
    "project = rf.workspace().project(\"2024-frc\")\n",
    "model = project.version(8).model\n",
    "\n",
    "result = model.predict(\"robot-holding-note.jpg\", confidence=40, overlap=30).json()"
   ]
  },
  {
   "cell_type": "code",
   "execution_count": 5,
   "id": "6cf7dc97",
   "metadata": {},
   "outputs": [
    {
     "name": "stdout",
     "output_type": "stream",
     "text": [
      "{'predictions': [{'x': 202.5, 'y': 154.5, 'width': 85.0, 'height': 51.0, 'confidence': 0.9255152940750122, 'class': 'note', 'class_id': 3, 'detection_id': '79729e03-aa21-426d-97c5-b026bff4289c', 'image_path': 'robot-holding-note.jpg', 'prediction_type': 'ObjectDetectionModel'}], 'image': {'width': '250', 'height': '295'}}\n"
     ]
    }
   ],
   "source": [
    "# Filter results to only include notes\n",
    "target_class_ids = {3}\n",
    "\n",
    "# Filter predictions\n",
    "filtered_predictions = [\n",
    "    pred for pred in result[\"predictions\"]\n",
    "    if pred[\"class_id\"] in target_class_ids\n",
    "]\n",
    "\n",
    "# Construct filtered result\n",
    "filtered_result = {\n",
    "    \"predictions\": filtered_predictions,\n",
    "    \"image\": result[\"image\"]\n",
    "}\n",
    "\n",
    "\n",
    "result = filtered_result\n",
    "print(result)"
   ]
  }
 ],
 "metadata": {
  "kernelspec": {
   "display_name": "Python 3",
   "language": "python",
   "name": "python3"
  },
  "language_info": {
   "codemirror_mode": {
    "name": "ipython",
    "version": 3
   },
   "file_extension": ".py",
   "mimetype": "text/x-python",
   "name": "python",
   "nbconvert_exporter": "python",
   "pygments_lexer": "ipython3",
   "version": "3.9.6"
  }
 },
 "nbformat": 4,
 "nbformat_minor": 5
}
