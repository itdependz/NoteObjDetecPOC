{
 "cells": [
  {
   "cell_type": "markdown",
   "id": "ce2b3b0b",
   "metadata": {},
   "source": [
    "# Note Object Detection\n",
    "Description: Object Detection Program for FRC Notes\n",
    "\n",
    "## Resources\n",
    "* Note model from [RoboFlow](https://universe.roboflow.com/worbots-4145/2024-frc)\n"
   ]
  },
  {
   "cell_type": "code",
   "execution_count": 2,
   "id": "d3e264fc",
   "metadata": {},
   "outputs": [],
   "source": [
    "# import necessary libraries\n",
    "from roboflow import Roboflow\n",
    "import supervision as sv\n",
    "import cv2"
   ]
  },
  {
   "cell_type": "markdown",
   "id": "793b2821",
   "metadata": {},
   "source": [
    "## Import RoboFlow Model and Necessary Requirements\n",
    "### obtain results"
   ]
  },
  {
   "cell_type": "code",
   "execution_count": null,
   "id": "1f6c8140",
   "metadata": {},
   "outputs": [
    {
     "name": "stdout",
     "output_type": "stream",
     "text": [
      "loading Roboflow workspace...\n",
      "loading Roboflow project...\n"
     ]
    }
   ],
   "source": [
    "rf = Roboflow(api_key=\"PHdCfHHJVoVwM0ee9rP7\")\n",
    "project = rf.workspace().project(\"2024-frc\")\n",
    "model = project.version(8).model\n",
    "\n",
    "result = model.predict(\"robot-holding-note.jpg\", confidence=40, overlap=30).json()"
   ]
  },
  {
   "cell_type": "code",
   "execution_count": null,
   "id": "6cf7dc97",
   "metadata": {},
   "outputs": [],
   "source": []
  }
 ],
 "metadata": {
  "kernelspec": {
   "display_name": "Python 3",
   "language": "python",
   "name": "python3"
  },
  "language_info": {
   "codemirror_mode": {
    "name": "ipython",
    "version": 3
   },
   "file_extension": ".py",
   "mimetype": "text/x-python",
   "name": "python",
   "nbconvert_exporter": "python",
   "pygments_lexer": "ipython3",
   "version": "3.9.6"
  }
 },
 "nbformat": 4,
 "nbformat_minor": 5
}
